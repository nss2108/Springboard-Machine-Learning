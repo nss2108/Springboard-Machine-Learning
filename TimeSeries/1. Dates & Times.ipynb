{
 "cells": [
  {
   "cell_type": "code",
   "execution_count": 1,
   "metadata": {
    "collapsed": true
   },
   "outputs": [],
   "source": [
    "import pandas as pd\n",
    "import numpy as np"
   ]
  },
  {
   "cell_type": "code",
   "execution_count": 7,
   "metadata": {},
   "outputs": [
    {
     "data": {
      "text/plain": [
       "Timestamp('2016-07-01 10:15:00+0800', tz='Asia/Hong_Kong', freq='8H')"
      ]
     },
     "execution_count": 7,
     "metadata": {},
     "output_type": "execute_result"
    }
   ],
   "source": [
    "# TIMES\n",
    "rng = pd.date_range('2016 Jul 1', end = '2016 Jul 25', freq = '8H', tz=\"Asia/Hong_Kong\")\n",
    "rng[0]"
   ]
  },
  {
   "cell_type": "code",
   "execution_count": null,
   "metadata": {
    "collapsed": true
   },
   "outputs": [],
   "source": [
    "# Which of these formats DON'T work?\n",
    " '1/7/2016'"
   ]
  },
  {
   "cell_type": "code",
   "execution_count": null,
   "metadata": {
    "collapsed": true
   },
   "outputs": [],
   "source": [
    "# Is '7/1/2016 in January or July?  \n",
    "\"July\""
   ]
  },
  {
   "cell_type": "code",
   "execution_count": null,
   "metadata": {
    "collapsed": true
   },
   "outputs": [],
   "source": [
    "# What is the class of an individual object held in the date_range?\n",
    "\"timestamp\""
   ]
  },
  {
   "cell_type": "code",
   "execution_count": null,
   "metadata": {
    "collapsed": true
   },
   "outputs": [],
   "source": [
    "# TIME STAMPS VS TIME SPANS\n",
    "pd.Timestamp('2016-07-10')"
   ]
  },
  {
   "cell_type": "code",
   "execution_count": null,
   "metadata": {
    "collapsed": true
   },
   "outputs": [],
   "source": [
    "# You can also more details \n",
    "pd.Timestamp('2016-07-10 10')"
   ]
  },
  {
   "cell_type": "code",
   "execution_count": null,
   "metadata": {
    "collapsed": true
   },
   "outputs": [],
   "source": [
    "# Or even more...\n",
    "pd.Timestamp('2016-07-10 10:15')"
   ]
  },
  {
   "cell_type": "code",
   "execution_count": null,
   "metadata": {
    "collapsed": true
   },
   "outputs": [],
   "source": [
    "# How much detail can you add?\n",
    "\"down to ten nanoseconds\""
   ]
  },
  {
   "cell_type": "code",
   "execution_count": 15,
   "metadata": {},
   "outputs": [
    {
     "data": {
      "text/plain": [
       "Timestamp('2016-07-10 22:15:00')"
      ]
     },
     "execution_count": 15,
     "metadata": {},
     "output_type": "execute_result"
    }
   ],
   "source": [
    "# What are some properties of timestamps? Try them out.\n",
    "# hint: http://pandas.pydata.org/pandas-docs/stable/timeseries.html#time-date-components\n",
    "t = pd.Timestamp('2016-07-10 10:15')\n",
    "t.quarter\n",
    "t.dayofweek\n",
    "t.week\n",
    "t.is_quarter_end\n",
    "t = pd.Timestamp('2016-07-10 10:15 PM')\n",
    "t"
   ]
  },
  {
   "cell_type": "code",
   "execution_count": 27,
   "metadata": {},
   "outputs": [
    {
     "data": {
      "text/plain": [
       "Period('2016-01', 'M')"
      ]
     },
     "execution_count": 27,
     "metadata": {},
     "output_type": "execute_result"
    }
   ],
   "source": [
    "# TIME SPANS\n",
    "pd.Period('2016-01')"
   ]
  },
  {
   "cell_type": "code",
   "execution_count": null,
   "metadata": {
    "collapsed": true
   },
   "outputs": [],
   "source": [
    "# What's that extra info above? How does it get set?\n",
    "\"the type of period\""
   ]
  },
  {
   "cell_type": "code",
   "execution_count": 28,
   "metadata": {},
   "outputs": [
    {
     "data": {
      "text/plain": [
       "Period('2016-01-01', 'D')"
      ]
     },
     "execution_count": 28,
     "metadata": {},
     "output_type": "execute_result"
    }
   ],
   "source": [
    "pd.Period('2016-01-01')"
   ]
  },
  {
   "cell_type": "code",
   "execution_count": 29,
   "metadata": {},
   "outputs": [
    {
     "data": {
      "text/plain": [
       "Period('2016-01-01 10:00', 'H')"
      ]
     },
     "execution_count": 29,
     "metadata": {},
     "output_type": "execute_result"
    }
   ],
   "source": [
    "pd.Period('2016-01-01 10')"
   ]
  },
  {
   "cell_type": "code",
   "execution_count": 30,
   "metadata": {},
   "outputs": [
    {
     "data": {
      "text/plain": [
       "Period('2016-01-01 10:10', 'T')"
      ]
     },
     "execution_count": 30,
     "metadata": {},
     "output_type": "execute_result"
    }
   ],
   "source": [
    "pd.Period('2016-01-01 10:10')"
   ]
  },
  {
   "cell_type": "code",
   "execution_count": 39,
   "metadata": {},
   "outputs": [
    {
     "data": {
      "text/plain": [
       "Period('2016-01-01 10:10:10', 'S')"
      ]
     },
     "execution_count": 39,
     "metadata": {},
     "output_type": "execute_result"
    }
   ],
   "source": [
    "pd.Period('2016-01-01 10:10:10')"
   ]
  },
  {
   "cell_type": "code",
   "execution_count": null,
   "metadata": {
    "collapsed": true
   },
   "outputs": [],
   "source": [
    "# What's the most detailed Period you can get?\n",
    "\"the second\""
   ]
  },
  {
   "cell_type": "code",
   "execution_count": null,
   "metadata": {
    "collapsed": true
   },
   "outputs": [],
   "source": [
    "# How can you make multiple time periods? \n",
    "# Hint look for analogy with pd.date_range() above\n",
    "\"period_range\""
   ]
  },
  {
   "cell_type": "code",
   "execution_count": 23,
   "metadata": {},
   "outputs": [
    {
     "data": {
      "text/plain": [
       "Timedelta('0 days 00:00:00.000000')"
      ]
     },
     "execution_count": 23,
     "metadata": {},
     "output_type": "execute_result"
    }
   ],
   "source": [
    "# TIME OFFSETS\n",
    "pd.Timedelta('15 ns')"
   ]
  },
  {
   "cell_type": "code",
   "execution_count": 26,
   "metadata": {},
   "outputs": [
    {
     "data": {
      "text/plain": [
       "DatetimeIndex(['2016-07-02 10:15:00+08:00', '2016-07-02 18:15:00+08:00',\n",
       "               '2016-07-03 02:15:00+08:00', '2016-07-03 10:15:00+08:00',\n",
       "               '2016-07-03 18:15:00+08:00', '2016-07-04 02:15:00+08:00',\n",
       "               '2016-07-04 10:15:00+08:00', '2016-07-04 18:15:00+08:00',\n",
       "               '2016-07-05 02:15:00+08:00', '2016-07-05 10:15:00+08:00',\n",
       "               '2016-07-05 18:15:00+08:00', '2016-07-06 02:15:00+08:00',\n",
       "               '2016-07-06 10:15:00+08:00', '2016-07-06 18:15:00+08:00',\n",
       "               '2016-07-07 02:15:00+08:00', '2016-07-07 10:15:00+08:00',\n",
       "               '2016-07-07 18:15:00+08:00', '2016-07-08 02:15:00+08:00',\n",
       "               '2016-07-08 10:15:00+08:00', '2016-07-08 18:15:00+08:00',\n",
       "               '2016-07-09 02:15:00+08:00', '2016-07-09 10:15:00+08:00',\n",
       "               '2016-07-09 18:15:00+08:00', '2016-07-10 02:15:00+08:00',\n",
       "               '2016-07-10 10:15:00+08:00', '2016-07-10 18:15:00+08:00',\n",
       "               '2016-07-11 02:15:00+08:00', '2016-07-11 10:15:00+08:00',\n",
       "               '2016-07-11 18:15:00+08:00', '2016-07-12 02:15:00+08:00',\n",
       "               '2016-07-12 10:15:00+08:00', '2016-07-12 18:15:00+08:00',\n",
       "               '2016-07-13 02:15:00+08:00', '2016-07-13 10:15:00+08:00',\n",
       "               '2016-07-13 18:15:00+08:00', '2016-07-14 02:15:00+08:00',\n",
       "               '2016-07-14 10:15:00+08:00', '2016-07-14 18:15:00+08:00',\n",
       "               '2016-07-15 02:15:00+08:00', '2016-07-15 10:15:00+08:00',\n",
       "               '2016-07-15 18:15:00+08:00', '2016-07-16 02:15:00+08:00',\n",
       "               '2016-07-16 10:15:00+08:00', '2016-07-16 18:15:00+08:00',\n",
       "               '2016-07-17 02:15:00+08:00', '2016-07-17 10:15:00+08:00',\n",
       "               '2016-07-17 18:15:00+08:00', '2016-07-18 02:15:00+08:00',\n",
       "               '2016-07-18 10:15:00+08:00', '2016-07-18 18:15:00+08:00',\n",
       "               '2016-07-19 02:15:00+08:00', '2016-07-19 10:15:00+08:00',\n",
       "               '2016-07-19 18:15:00+08:00', '2016-07-20 02:15:00+08:00',\n",
       "               '2016-07-20 10:15:00+08:00', '2016-07-20 18:15:00+08:00',\n",
       "               '2016-07-21 02:15:00+08:00', '2016-07-21 10:15:00+08:00',\n",
       "               '2016-07-21 18:15:00+08:00', '2016-07-22 02:15:00+08:00',\n",
       "               '2016-07-22 10:15:00+08:00', '2016-07-22 18:15:00+08:00',\n",
       "               '2016-07-23 02:15:00+08:00', '2016-07-23 10:15:00+08:00',\n",
       "               '2016-07-23 18:15:00+08:00', '2016-07-24 02:15:00+08:00',\n",
       "               '2016-07-24 10:15:00+08:00', '2016-07-24 18:15:00+08:00',\n",
       "               '2016-07-25 02:15:00+08:00', '2016-07-25 10:15:00+08:00',\n",
       "               '2016-07-25 18:15:00+08:00'],\n",
       "              dtype='datetime64[ns, Asia/Hong_Kong]', freq='8H')"
      ]
     },
     "execution_count": 26,
     "metadata": {},
     "output_type": "execute_result"
    }
   ],
   "source": [
    "rng+pd.Timedelta('1 day')"
   ]
  },
  {
   "cell_type": "code",
   "execution_count": 40,
   "metadata": {},
   "outputs": [
    {
     "data": {
      "text/plain": [
       "Period('2016-01-02 10:10', 'T')"
      ]
     },
     "execution_count": 40,
     "metadata": {},
     "output_type": "execute_result"
    }
   ],
   "source": [
    "pd.Period('2016-01-01 10:10') + pd.Timedelta('1 day')"
   ]
  },
  {
   "cell_type": "code",
   "execution_count": 41,
   "metadata": {},
   "outputs": [
    {
     "data": {
      "text/plain": [
       "Timestamp('2016-01-02 10:10:00')"
      ]
     },
     "execution_count": 41,
     "metadata": {},
     "output_type": "execute_result"
    }
   ],
   "source": [
    "pd.Timestamp('2016-01-01 10:10') + pd.Timedelta('1 day')"
   ]
  },
  {
   "cell_type": "code",
   "execution_count": 42,
   "metadata": {},
   "outputs": [
    {
     "data": {
      "text/plain": [
       "Timestamp('2016-01-01 10:10:00.000000015')"
      ]
     },
     "execution_count": 42,
     "metadata": {},
     "output_type": "execute_result"
    }
   ],
   "source": [
    "pd.Timestamp('2016-01-01 10:10') + pd.Timedelta('15 ns')"
   ]
  },
  {
   "cell_type": "code",
   "execution_count": 43,
   "metadata": {},
   "outputs": [
    {
     "data": {
      "text/plain": [
       "PeriodIndex(['2016-01-01', '2016-01-04', '2016-01-05', '2016-01-06',\n",
       "             '2016-01-07', '2016-01-08', '2016-01-11', '2016-01-12',\n",
       "             '2016-01-13', '2016-01-14'],\n",
       "            dtype='period[B]', freq='B')"
      ]
     },
     "execution_count": 43,
     "metadata": {},
     "output_type": "execute_result"
    }
   ],
   "source": [
    "# FANCY FREQUENCY SETTING\n",
    "# Only want business days\n",
    "pd.period_range('2016-01-01 10:10', freq = 'B', periods = 10)"
   ]
  },
  {
   "cell_type": "code",
   "execution_count": 44,
   "metadata": {
    "collapsed": true
   },
   "outputs": [],
   "source": [
    "# It's possible to combine frequencies. What if you want to advance by 25 hours each day. What are the 2 ways to do it?\n",
    "p1 = pd.period_range('2016-01-01 10:10', freq = '25H', periods = 10)"
   ]
  },
  {
   "cell_type": "code",
   "execution_count": 45,
   "metadata": {
    "collapsed": true
   },
   "outputs": [],
   "source": [
    "p2 = pd.period_range('2016-01-01 10:10', freq = '1D1H', periods = 10)"
   ]
  },
  {
   "cell_type": "code",
   "execution_count": 46,
   "metadata": {},
   "outputs": [
    {
     "data": {
      "text/plain": [
       "PeriodIndex(['2016-01-01 10:00', '2016-01-02 11:00', '2016-01-03 12:00',\n",
       "             '2016-01-04 13:00', '2016-01-05 14:00', '2016-01-06 15:00',\n",
       "             '2016-01-07 16:00', '2016-01-08 17:00', '2016-01-09 18:00',\n",
       "             '2016-01-10 19:00'],\n",
       "            dtype='period[25H]', freq='25H')"
      ]
     },
     "execution_count": 46,
     "metadata": {},
     "output_type": "execute_result"
    }
   ],
   "source": [
    "p1"
   ]
  },
  {
   "cell_type": "code",
   "execution_count": 47,
   "metadata": {},
   "outputs": [
    {
     "data": {
      "text/plain": [
       "PeriodIndex(['2016-01-01 10:00', '2016-01-02 11:00', '2016-01-03 12:00',\n",
       "             '2016-01-04 13:00', '2016-01-05 14:00', '2016-01-06 15:00',\n",
       "             '2016-01-07 16:00', '2016-01-08 17:00', '2016-01-09 18:00',\n",
       "             '2016-01-10 19:00'],\n",
       "            dtype='period[25H]', freq='25H')"
      ]
     },
     "execution_count": 47,
     "metadata": {},
     "output_type": "execute_result"
    }
   ],
   "source": [
    "p2"
   ]
  },
  {
   "cell_type": "code",
   "execution_count": 49,
   "metadata": {},
   "outputs": [
    {
     "data": {
      "text/plain": [
       "PeriodIndex(['2016-01', '2016-02', '2016-03', '2016-04', '2016-05', '2016-06',\n",
       "             '2016-07', '2016-08', '2016-09', '2016-10'],\n",
       "            dtype='period[M]', freq='M')"
      ]
     },
     "execution_count": 49,
     "metadata": {},
     "output_type": "execute_result"
    }
   ],
   "source": [
    "# What are some other combos you can produce?\n",
    "# hint: http://pandas.pydata.org/pandas-docs/stable/timeseries.html#offset-aliases\n",
    "p2 = pd.period_range('2016-01', freq = 'M', periods = 10)\n",
    "p2"
   ]
  },
  {
   "cell_type": "code",
   "execution_count": 50,
   "metadata": {},
   "outputs": [
    {
     "data": {
      "text/plain": [
       "2016-07-01    0\n",
       "2016-07-02    1\n",
       "2016-07-03    2\n",
       "2016-07-04    3\n",
       "2016-07-05    4\n",
       "2016-07-06    5\n",
       "2016-07-07    6\n",
       "2016-07-08    7\n",
       "2016-07-09    8\n",
       "2016-07-10    9\n",
       "Freq: D, dtype: int32"
      ]
     },
     "execution_count": 50,
     "metadata": {},
     "output_type": "execute_result"
    }
   ],
   "source": [
    "# INDEXING WITH TIME OBJECTS\n",
    "# You can use these objects for indices\n",
    "# Let's start with using a date range as above\n",
    "rng = pd.date_range('2016 Jul 1', periods = 10, freq = 'D')\n",
    "rng\n",
    "pd.Series(range(len(rng)), index = rng)"
   ]
  },
  {
   "cell_type": "code",
   "execution_count": 33,
   "metadata": {},
   "outputs": [
    {
     "data": {
      "text/plain": [
       "2016-01    1.115359\n",
       "2016-02   -1.700792\n",
       "2016-03    0.975053\n",
       "Freq: M, dtype: float64"
      ]
     },
     "execution_count": 33,
     "metadata": {},
     "output_type": "execute_result"
    }
   ],
   "source": [
    "# You can also use time period indices, in cases where it makes more sense \n",
    "# to think about your index as a time span rather than a single point in time\n",
    "\n",
    "periods = [pd.Period('2016-01'), pd.Period('2016-02'), pd.Period('2016-03')]\n",
    "ts = pd.Series(np.random.randn(len(periods)), index = periods)\n",
    "ts"
   ]
  },
  {
   "cell_type": "code",
   "execution_count": 34,
   "metadata": {},
   "outputs": [
    {
     "data": {
      "text/plain": [
       "pandas.core.indexes.period.PeriodIndex"
      ]
     },
     "execution_count": 34,
     "metadata": {},
     "output_type": "execute_result"
    }
   ],
   "source": [
    "# What type is the index for ts?\n",
    "type(ts.index)"
   ]
  },
  {
   "cell_type": "code",
   "execution_count": 51,
   "metadata": {},
   "outputs": [
    {
     "data": {
      "text/plain": [
       "2016-01    1.115359\n",
       "2016-02   -1.700792\n",
       "2016-03    0.975053\n",
       "Freq: M, dtype: float64"
      ]
     },
     "execution_count": 51,
     "metadata": {},
     "output_type": "execute_result"
    }
   ],
   "source": [
    "# Experiment with various indices\n",
    "# Hint: does ts['2016'] work? \n",
    "ts['2016']"
   ]
  },
  {
   "cell_type": "code",
   "execution_count": 63,
   "metadata": {},
   "outputs": [],
   "source": [
    "# Timestamped data can be convereted to period indices with to_period and vice versa with to_timestamp\n",
    "ts = pd.Series(range(50), pd.date_range('07-10-16 8:00', periods = 50, freq = 'H'))\n",
    "tsperiod=ts.to_period()"
   ]
  },
  {
   "cell_type": "code",
   "execution_count": 64,
   "metadata": {},
   "outputs": [
    {
     "data": {
      "text/plain": [
       "2016-07-10 08:00     0\n",
       "2016-07-10 09:00     1\n",
       "2016-07-10 10:00     2\n",
       "2016-07-10 11:00     3\n",
       "2016-07-10 12:00     4\n",
       "2016-07-10 13:00     5\n",
       "2016-07-10 14:00     6\n",
       "2016-07-10 15:00     7\n",
       "2016-07-10 16:00     8\n",
       "2016-07-10 17:00     9\n",
       "2016-07-10 18:00    10\n",
       "2016-07-10 19:00    11\n",
       "2016-07-10 20:00    12\n",
       "2016-07-10 21:00    13\n",
       "2016-07-10 22:00    14\n",
       "2016-07-10 23:00    15\n",
       "2016-07-11 00:00    16\n",
       "2016-07-11 01:00    17\n",
       "2016-07-11 02:00    18\n",
       "2016-07-11 03:00    19\n",
       "2016-07-11 04:00    20\n",
       "2016-07-11 05:00    21\n",
       "2016-07-11 06:00    22\n",
       "2016-07-11 07:00    23\n",
       "2016-07-11 08:00    24\n",
       "2016-07-11 09:00    25\n",
       "2016-07-11 10:00    26\n",
       "2016-07-11 11:00    27\n",
       "2016-07-11 12:00    28\n",
       "2016-07-11 13:00    29\n",
       "2016-07-11 14:00    30\n",
       "2016-07-11 15:00    31\n",
       "2016-07-11 16:00    32\n",
       "2016-07-11 17:00    33\n",
       "2016-07-11 18:00    34\n",
       "2016-07-11 19:00    35\n",
       "2016-07-11 20:00    36\n",
       "2016-07-11 21:00    37\n",
       "2016-07-11 22:00    38\n",
       "2016-07-11 23:00    39\n",
       "2016-07-12 00:00    40\n",
       "2016-07-12 01:00    41\n",
       "2016-07-12 02:00    42\n",
       "2016-07-12 03:00    43\n",
       "2016-07-12 04:00    44\n",
       "2016-07-12 05:00    45\n",
       "2016-07-12 06:00    46\n",
       "2016-07-12 07:00    47\n",
       "2016-07-12 08:00    48\n",
       "2016-07-12 09:00    49\n",
       "Freq: H, dtype: int32"
      ]
     },
     "execution_count": 64,
     "metadata": {},
     "output_type": "execute_result"
    }
   ],
   "source": [
    "ts_period = ts.to_period()\n",
    "ts_period"
   ]
  },
  {
   "cell_type": "code",
   "execution_count": 57,
   "metadata": {},
   "outputs": [
    {
     "data": {
      "text/plain": [
       "2016-07-10 08:00    0\n",
       "2016-07-10 09:00    1\n",
       "2016-07-10 10:00    2\n",
       "2016-07-10 11:00    3\n",
       "Freq: H, dtype: int32"
      ]
     },
     "execution_count": 57,
     "metadata": {},
     "output_type": "execute_result"
    }
   ],
   "source": [
    "ts_period['2016-07-10 08:30':'2016-07-10 11:45'] # we have the concept of overlap with time periods"
   ]
  },
  {
   "cell_type": "code",
   "execution_count": 58,
   "metadata": {},
   "outputs": [
    {
     "data": {
      "text/plain": [
       "2016-07-10 09:00:00    1\n",
       "2016-07-10 10:00:00    2\n",
       "2016-07-10 11:00:00    3\n",
       "Freq: H, dtype: int32"
      ]
     },
     "execution_count": 58,
     "metadata": {},
     "output_type": "execute_result"
    }
   ],
   "source": [
    "ts['2016-07-10 08:30':'2016-07-10 11:45'] # we have the concept of include with timestamps"
   ]
  },
  {
   "cell_type": "code",
   "execution_count": 66,
   "metadata": {},
   "outputs": [
    {
     "data": {
      "text/plain": [
       "2016-07-10 08:00     0\n",
       "2016-07-10 09:00     1\n",
       "2016-07-10 10:00     2\n",
       "2016-07-10 11:00     3\n",
       "2016-07-10 12:00     4\n",
       "2016-07-10 13:00     5\n",
       "2016-07-10 14:00     6\n",
       "2016-07-10 15:00     7\n",
       "2016-07-10 16:00     8\n",
       "2016-07-10 17:00     9\n",
       "2016-07-10 18:00    10\n",
       "2016-07-10 19:00    11\n",
       "2016-07-10 20:00    12\n",
       "2016-07-10 21:00    13\n",
       "2016-07-10 22:00    14\n",
       "2016-07-10 23:00    15\n",
       "2016-07-11 00:00    16\n",
       "2016-07-11 01:00    17\n",
       "2016-07-11 02:00    18\n",
       "2016-07-11 03:00    19\n",
       "2016-07-11 04:00    20\n",
       "2016-07-11 05:00    21\n",
       "2016-07-11 06:00    22\n",
       "2016-07-11 07:00    23\n",
       "2016-07-11 08:00    24\n",
       "2016-07-11 09:00    25\n",
       "2016-07-11 10:00    26\n",
       "2016-07-11 11:00    27\n",
       "2016-07-11 12:00    28\n",
       "2016-07-11 13:00    29\n",
       "Freq: H, dtype: int32"
      ]
     },
     "execution_count": 66,
     "metadata": {},
     "output_type": "execute_result"
    }
   ],
   "source": [
    "ts_period['2016-07-10 08:00':'2016-07-11 13:00']"
   ]
  },
  {
   "cell_type": "code",
   "execution_count": 68,
   "metadata": {},
   "outputs": [
    {
     "data": {
      "text/plain": [
       "2016-07-11 00:00    16\n",
       "2016-07-11 01:00    17\n",
       "2016-07-11 02:00    18\n",
       "2016-07-11 03:00    19\n",
       "2016-07-11 04:00    20\n",
       "2016-07-11 05:00    21\n",
       "2016-07-11 06:00    22\n",
       "2016-07-11 07:00    23\n",
       "2016-07-11 08:00    24\n",
       "2016-07-11 09:00    25\n",
       "2016-07-11 10:00    26\n",
       "2016-07-11 11:00    27\n",
       "2016-07-11 12:00    28\n",
       "2016-07-11 13:00    29\n",
       "2016-07-11 14:00    30\n",
       "2016-07-11 15:00    31\n",
       "2016-07-11 16:00    32\n",
       "2016-07-11 17:00    33\n",
       "2016-07-11 18:00    34\n",
       "2016-07-11 19:00    35\n",
       "2016-07-11 20:00    36\n",
       "2016-07-11 21:00    37\n",
       "2016-07-11 22:00    38\n",
       "2016-07-11 23:00    39\n",
       "2016-07-12 00:00    40\n",
       "2016-07-12 01:00    41\n",
       "2016-07-12 02:00    42\n",
       "2016-07-12 03:00    43\n",
       "2016-07-12 04:00    44\n",
       "2016-07-12 05:00    45\n",
       "2016-07-12 06:00    46\n",
       "2016-07-12 07:00    47\n",
       "2016-07-12 08:00    48\n",
       "2016-07-12 09:00    49\n",
       "Freq: H, dtype: int32"
      ]
     },
     "execution_count": 68,
     "metadata": {},
     "output_type": "execute_result"
    }
   ],
   "source": [
    "ts_period[\"Jul 11 2016\":]"
   ]
  },
  {
   "cell_type": "code",
   "execution_count": 71,
   "metadata": {},
   "outputs": [
    {
     "data": {
      "text/plain": [
       "Timestamp('2013-03-07 00:00:00')"
      ]
     },
     "execution_count": 71,
     "metadata": {},
     "output_type": "execute_result"
    }
   ],
   "source": [
    "pd.to_datetime(\"7/3/2013\", dayfirst=True)"
   ]
  },
  {
   "cell_type": "code",
   "execution_count": null,
   "metadata": {
    "collapsed": true
   },
   "outputs": [],
   "source": []
  }
 ],
 "metadata": {
  "kernelspec": {
   "display_name": "Python 3",
   "language": "python",
   "name": "python3"
  },
  "language_info": {
   "codemirror_mode": {
    "name": "ipython",
    "version": 3
   },
   "file_extension": ".py",
   "mimetype": "text/x-python",
   "name": "python",
   "nbconvert_exporter": "python",
   "pygments_lexer": "ipython3",
   "version": "3.6.1"
  },
  "widgets": {
   "state": {},
   "version": "1.1.1"
  }
 },
 "nbformat": 4,
 "nbformat_minor": 1
}
