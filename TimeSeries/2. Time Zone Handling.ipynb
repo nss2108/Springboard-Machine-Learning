{
 "cells": [
  {
   "cell_type": "code",
   "execution_count": 2,
   "metadata": {
    "collapsed": true
   },
   "outputs": [],
   "source": [
    "import numpy as np\n",
    "import pandas as pd"
   ]
  },
  {
   "cell_type": "code",
   "execution_count": 4,
   "metadata": {},
   "outputs": [
    {
     "name": "stdout",
     "output_type": "stream",
     "text": [
      "None\n"
     ]
    }
   ],
   "source": [
    "rng = pd.date_range('3/6/2012 00:00', periods = 15, freq = 'D')\n",
    "print(rng.tz)"
   ]
  },
  {
   "cell_type": "code",
   "execution_count": 3,
   "metadata": {},
   "outputs": [
    {
     "data": {
      "text/plain": [
       "<DstTzInfo 'Europe/London' LMT-1 day, 23:59:00 STD>"
      ]
     },
     "execution_count": 3,
     "metadata": {},
     "output_type": "execute_result"
    }
   ],
   "source": [
    "rng_tz = pd.date_range('3/6/2012 00:00', periods = 15, freq = 'D', tz = 'Europe/London')\n",
    "rng_tz.tz"
   ]
  },
  {
   "cell_type": "code",
   "execution_count": 5,
   "metadata": {},
   "outputs": [
    {
     "name": "stdout",
     "output_type": "stream",
     "text": [
      "439\n",
      "593\n",
      "{'Etc/GMT-4', 'Etc/GMT+8', 'NZ', 'Atlantic/Faeroe', 'Etc/GMT', 'ROC', 'Etc/GMT-0', 'US/Samoa', 'Etc/GMT+11', 'Asia/Istanbul', 'Etc/GMT+3', 'Asia/Kashgar', 'Australia/Canberra', 'Etc/GMT+5', 'Africa/Asmera', 'America/Porto_Acre', 'Singapore', 'Asia/Katmandu', 'America/Jujuy', 'America/Fort_Wayne', 'America/Montreal', 'America/Cordoba', 'Etc/GMT+1', 'Chile/EasterIsland', 'Kwajalein', 'GB', 'Etc/GMT-5', 'Portugal', 'GMT+0', 'Pacific/Ponape', 'Etc/Zulu', 'America/Rosario', 'Etc/GMT+10', 'Asia/Macao', 'Brazil/DeNoronha', 'Australia/NSW', 'Eire', 'UCT', 'EST5EDT', 'Etc/GMT-13', 'MET', 'Australia/South', 'Etc/UTC', 'Europe/Nicosia', 'Etc/GMT+7', 'Asia/Chungking', 'Australia/Victoria', 'America/Knox_IN', 'ROK', 'America/Santa_Isabel', 'Etc/GMT-11', 'Japan', 'Etc/GMT+12', 'MST7MDT', 'EET', 'Iran', 'MST', 'America/Virgin', 'EST', 'Asia/Tel_Aviv', 'Greenwich', 'Etc/GMT-8', 'Asia/Chongqing', 'Canada/East-Saskatchewan', 'Libya', 'Turkey', 'PST8PDT', 'Africa/Timbuktu', 'Universal', 'WET', 'Etc/GMT+2', 'Canada/Saskatchewan', 'PRC', 'NZ-CHAT', 'US/East-Indiana', 'America/Shiprock', 'Etc/GMT-10', 'Hongkong', 'Asia/Harbin', 'Antarctica/South_Pole', 'Australia/Tasmania', 'CST6CDT', 'America/Coral_Harbour', 'Zulu', 'HST', 'Etc/GMT+0', 'Etc/GMT0', 'Etc/GMT+4', 'US/Michigan', 'W-SU', 'Jamaica', 'Asia/Rangoon', 'America/Indianapolis', 'Etc/GMT-3', 'Australia/Yancowinna', 'Etc/GMT-2', 'US/Indiana-Starke', 'Asia/Ulan_Bator', 'Atlantic/Jan_Mayen', 'Egypt', 'Australia/North', 'America/Atka', 'Brazil/East', 'America/Louisville', 'Pacific/Yap', 'Brazil/Acre', 'Canada/Yukon', 'Australia/ACT', 'Poland', 'GMT-0', 'Pacific/Truk', 'Brazil/West', 'Australia/LHI', 'Europe/Belfast', 'Pacific/Johnston', 'Etc/GMT-12', 'Iceland', 'Asia/Saigon', 'Etc/GMT-14', 'Cuba', 'Australia/West', 'Etc/GMT-7', 'CET', 'America/Ensenada', 'Etc/Universal', 'Mexico/BajaNorte', 'US/Aleutian', 'Asia/Ujung_Pandang', 'America/Mendoza', 'Asia/Ashkhabad', 'Asia/Calcutta', 'Israel', 'Mexico/General', 'America/Catamarca', 'Mexico/BajaSur', 'Etc/GMT-1', 'Asia/Dacca', 'Pacific/Samoa', 'America/Argentina/ComodRivadavia', 'Navajo', 'Etc/GMT+6', 'America/Buenos_Aires', 'Europe/Tiraspol', 'Etc/GMT-9', 'GMT0', 'Asia/Thimbu', 'US/Pacific-New', 'Etc/GMT+9', 'GB-Eire', 'Etc/UCT', 'Australia/Queensland', 'Etc/GMT-6', 'Etc/Greenwich', 'Chile/Continental'}\n"
     ]
    }
   ],
   "source": [
    "from pytz import common_timezones, all_timezones\n",
    "print(len(common_timezones))\n",
    "print(len(all_timezones))\n",
    "print(set(all_timezones) - set(common_timezones))"
   ]
  },
  {
   "cell_type": "code",
   "execution_count": 6,
   "metadata": {},
   "outputs": [
    {
     "data": {
      "text/plain": [
       "Timestamp('2016-07-10 08:50:00')"
      ]
     },
     "execution_count": 6,
     "metadata": {},
     "output_type": "execute_result"
    }
   ],
   "source": [
    "# You can also localize a naive timestamp\n",
    "t_naive = pd.Timestamp('2016-07-10 08:50')\n",
    "t_naive"
   ]
  },
  {
   "cell_type": "code",
   "execution_count": 7,
   "metadata": {},
   "outputs": [
    {
     "data": {
      "text/plain": [
       "Timestamp('2016-07-10 08:50:00-0500', tz='US/Central')"
      ]
     },
     "execution_count": 7,
     "metadata": {},
     "output_type": "execute_result"
    }
   ],
   "source": [
    "t = t_naive.tz_localize(tz = 'US/Central')\n",
    "t"
   ]
  },
  {
   "cell_type": "code",
   "execution_count": 8,
   "metadata": {},
   "outputs": [
    {
     "data": {
      "text/plain": [
       "Timestamp('2016-07-10 22:50:00+0900', tz='Asia/Tokyo')"
      ]
     },
     "execution_count": 8,
     "metadata": {},
     "output_type": "execute_result"
    }
   ],
   "source": [
    "t.tz_convert('Asia/Tokyo')"
   ]
  },
  {
   "cell_type": "code",
   "execution_count": 17,
   "metadata": {},
   "outputs": [
    {
     "data": {
      "text/plain": [
       "2016-03-10 00:00:00-06:00    0\n",
       "2016-03-11 00:00:00-06:00    1\n",
       "2016-03-12 00:00:00-06:00    2\n",
       "2016-03-13 00:00:00-06:00    3\n",
       "2016-03-14 00:00:00-05:00    4\n",
       "2016-03-15 00:00:00-05:00    5\n",
       "2016-03-16 00:00:00-05:00    6\n",
       "2016-03-17 00:00:00-05:00    7\n",
       "2016-03-18 00:00:00-05:00    8\n",
       "2016-03-19 00:00:00-05:00    9\n",
       "Freq: D, dtype: int32"
      ]
     },
     "execution_count": 17,
     "metadata": {},
     "output_type": "execute_result"
    }
   ],
   "source": [
    "# how to handle daylight savings?\n",
    "rng = pd.date_range('2016-03-10', periods=10, tz='US/Central')\n",
    "ts = pd.Series(range(10), index=rng)\n",
    "ts"
   ]
  },
  {
   "cell_type": "code",
   "execution_count": 18,
   "metadata": {},
   "outputs": [
    {
     "data": {
      "text/plain": [
       "2016-03-10 00:00:00+00:00    0\n",
       "2016-03-11 00:00:00+00:00    1\n",
       "2016-03-12 00:00:00+00:00    2\n",
       "2016-03-13 00:00:00+00:00    3\n",
       "2016-03-14 00:00:00+00:00    4\n",
       "2016-03-15 00:00:00+00:00    5\n",
       "2016-03-16 00:00:00+00:00    6\n",
       "2016-03-17 00:00:00+00:00    7\n",
       "2016-03-18 00:00:00+00:00    8\n",
       "2016-03-19 00:00:00+00:00    9\n",
       "Freq: D, dtype: int32"
      ]
     },
     "execution_count": 18,
     "metadata": {},
     "output_type": "execute_result"
    }
   ],
   "source": [
    "rng = pd.date_range('2016-03-10', periods=10, tz='utc')\n",
    "ts = pd.Series(range(10), index=rng)\n",
    "ts"
   ]
  },
  {
   "cell_type": "code",
   "execution_count": 11,
   "metadata": {},
   "outputs": [
    {
     "data": {
      "text/plain": [
       "2016-03-09 18:00:00-06:00    0\n",
       "2016-03-10 18:00:00-06:00    1\n",
       "2016-03-11 18:00:00-06:00    2\n",
       "2016-03-12 18:00:00-06:00    3\n",
       "2016-03-13 19:00:00-05:00    4\n",
       "2016-03-14 19:00:00-05:00    5\n",
       "2016-03-15 19:00:00-05:00    6\n",
       "2016-03-16 19:00:00-05:00    7\n",
       "2016-03-17 19:00:00-05:00    8\n",
       "2016-03-18 19:00:00-05:00    9\n",
       "Freq: D, dtype: int32"
      ]
     },
     "execution_count": 11,
     "metadata": {},
     "output_type": "execute_result"
    }
   ],
   "source": [
    "ts.tz_convert('US/Central')"
   ]
  },
  {
   "cell_type": "code",
   "execution_count": 12,
   "metadata": {},
   "outputs": [
    {
     "data": {
      "text/plain": [
       "DatetimeIndex(['2016-03-12 22:00:00-05:00', '2016-03-12 23:00:00-05:00',\n",
       "               '2016-03-13 00:00:00-05:00', '2016-03-13 01:00:00-05:00',\n",
       "               '2016-03-13 03:00:00-04:00', '2016-03-13 04:00:00-04:00',\n",
       "               '2016-03-13 05:00:00-04:00', '2016-03-13 06:00:00-04:00',\n",
       "               '2016-03-13 07:00:00-04:00', '2016-03-13 08:00:00-04:00',\n",
       "               '2016-03-13 09:00:00-04:00', '2016-03-13 10:00:00-04:00'],\n",
       "              dtype='datetime64[ns, US/Eastern]', freq='H')"
      ]
     },
     "execution_count": 12,
     "metadata": {},
     "output_type": "execute_result"
    }
   ],
   "source": [
    "pd.date_range('03-12-2016 22:00', periods = 12, freq = 'H', tz = 'US/Eastern')"
   ]
  },
  {
   "cell_type": "code",
   "execution_count": 4,
   "metadata": {},
   "outputs": [
    {
     "data": {
      "text/plain": [
       "Timestamp('2016-03-13 02:00:00-0500', tz='US/Eastern')"
      ]
     },
     "execution_count": 4,
     "metadata": {},
     "output_type": "execute_result"
    }
   ],
   "source": [
    "# May autocorrect an error rather than giving you a non-existent time error\n",
    "pd.Timestamp('03-13-2016 02:00', tz = 'US/Eastern')"
   ]
  },
  {
   "cell_type": "code",
   "execution_count": null,
   "metadata": {
    "collapsed": true
   },
   "outputs": [],
   "source": []
  }
 ],
 "metadata": {
  "kernelspec": {
   "display_name": "Python 3",
   "language": "python",
   "name": "python3"
  },
  "language_info": {
   "codemirror_mode": {
    "name": "ipython",
    "version": 3
   },
   "file_extension": ".py",
   "mimetype": "text/x-python",
   "name": "python",
   "nbconvert_exporter": "python",
   "pygments_lexer": "ipython3",
   "version": "3.6.1"
  },
  "widgets": {
   "state": {},
   "version": "1.1.1"
  }
 },
 "nbformat": 4,
 "nbformat_minor": 1
}
